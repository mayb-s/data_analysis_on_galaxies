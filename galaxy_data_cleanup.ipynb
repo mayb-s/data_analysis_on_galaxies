{
 "cells": [
  {
   "cell_type": "code",
   "execution_count": 1,
   "id": "8a1dfdc2-36b5-4540-9681-895db50f1a06",
   "metadata": {
    "scrolled": true
   },
   "outputs": [
    {
     "name": "stdout",
     "output_type": "stream",
     "text": [
      "   No. Object Name       RA       DEC Type  Velocity  Redshift Redshift Flag  \\\n",
      "0    1    NGC 7814  0.81204  16.14542    G      1051  0.003506           S1L   \n",
      "\n",
      "  Magnitude and Filter  Separation  References  Notes  Photometry Points  \\\n",
      "0                11.56           0         301      9                131   \n",
      "\n",
      "   Positions  Redshift Points  Diameter Points  Associations  \n",
      "0         40               28               14             0  \n"
     ]
    }
   ],
   "source": [
    "import pandas as pd\n",
    "import numpy as np\n",
    "\n",
    "#load data\n",
    "data=pd.read_csv(r\"C:\\Users\\maybe\\OneDrive\\Desktop\\One elective Data Science\\raw_galaxy_data_optical.csv\")\n",
    "\n",
    "#check first rows to verify it loaded correctly\n",
    "print(data.head(1))"
   ]
  },
  {
   "cell_type": "code",
   "execution_count": 2,
   "id": "c62841e1-4939-499d-adba-eab56f876ccb",
   "metadata": {},
   "outputs": [
    {
     "name": "stdout",
     "output_type": "stream",
     "text": [
      "       No. Object Name         RA       DEC Type  Velocity  Redshift  \\\n",
      "1119  1120    NGC 7796  359.74906 -55.45832    G      3290  0.010974   \n",
      "\n",
      "     Redshift Flag Magnitude and Filter  Separation  References  Notes  \\\n",
      "1119           SUN                12.46           0         116      4   \n",
      "\n",
      "      Photometry Points  Positions  Redshift Points  Diameter Points  \\\n",
      "1119                 78         21               18               19   \n",
      "\n",
      "      Associations  \n",
      "1119             0  \n"
     ]
    }
   ],
   "source": [
    "#check last rows\n",
    "print(data.tail(1))"
   ]
  },
  {
   "cell_type": "code",
   "execution_count": 3,
   "id": "b896b372-ca2e-41c5-a0be-b24f606adcd8",
   "metadata": {},
   "outputs": [
    {
     "data": {
      "text/html": [
       "<div>\n",
       "<style scoped>\n",
       "    .dataframe tbody tr th:only-of-type {\n",
       "        vertical-align: middle;\n",
       "    }\n",
       "\n",
       "    .dataframe tbody tr th {\n",
       "        vertical-align: top;\n",
       "    }\n",
       "\n",
       "    .dataframe thead th {\n",
       "        text-align: right;\n",
       "    }\n",
       "</style>\n",
       "<table border=\"1\" class=\"dataframe\">\n",
       "  <thead>\n",
       "    <tr style=\"text-align: right;\">\n",
       "      <th></th>\n",
       "      <th>No.</th>\n",
       "      <th>Object Name</th>\n",
       "      <th>RA</th>\n",
       "      <th>DEC</th>\n",
       "      <th>Type</th>\n",
       "      <th>Velocity</th>\n",
       "      <th>Redshift</th>\n",
       "      <th>Redshift Flag</th>\n",
       "      <th>Magnitude and Filter</th>\n",
       "      <th>Separation</th>\n",
       "      <th>References</th>\n",
       "      <th>Notes</th>\n",
       "      <th>Photometry Points</th>\n",
       "      <th>Positions</th>\n",
       "      <th>Redshift Points</th>\n",
       "      <th>Diameter Points</th>\n",
       "      <th>Associations</th>\n",
       "    </tr>\n",
       "  </thead>\n",
       "  <tbody>\n",
       "    <tr>\n",
       "      <th>719</th>\n",
       "      <td>720</td>\n",
       "      <td>NGC 4767</td>\n",
       "      <td>193.47063</td>\n",
       "      <td>-39.71431</td>\n",
       "      <td>G</td>\n",
       "      <td>2995</td>\n",
       "      <td>0.009990</td>\n",
       "      <td>SUN</td>\n",
       "      <td>12.51</td>\n",
       "      <td>0</td>\n",
       "      <td>102</td>\n",
       "      <td>3</td>\n",
       "      <td>70</td>\n",
       "      <td>13</td>\n",
       "      <td>14</td>\n",
       "      <td>19</td>\n",
       "      <td>0</td>\n",
       "    </tr>\n",
       "    <tr>\n",
       "      <th>1029</th>\n",
       "      <td>1030</td>\n",
       "      <td>NGC 7049</td>\n",
       "      <td>319.75126</td>\n",
       "      <td>-48.56216</td>\n",
       "      <td>G</td>\n",
       "      <td>2285</td>\n",
       "      <td>0.007622</td>\n",
       "      <td>SUN</td>\n",
       "      <td>11.72</td>\n",
       "      <td>0</td>\n",
       "      <td>156</td>\n",
       "      <td>6</td>\n",
       "      <td>95</td>\n",
       "      <td>21</td>\n",
       "      <td>14</td>\n",
       "      <td>17</td>\n",
       "      <td>0</td>\n",
       "    </tr>\n",
       "    <tr>\n",
       "      <th>637</th>\n",
       "      <td>638</td>\n",
       "      <td>NGC 4490</td>\n",
       "      <td>187.65100</td>\n",
       "      <td>41.64390</td>\n",
       "      <td>G</td>\n",
       "      <td>565</td>\n",
       "      <td>0.001885</td>\n",
       "      <td>SUN</td>\n",
       "      <td>10.22</td>\n",
       "      <td>0</td>\n",
       "      <td>606</td>\n",
       "      <td>11</td>\n",
       "      <td>156</td>\n",
       "      <td>61</td>\n",
       "      <td>32</td>\n",
       "      <td>12</td>\n",
       "      <td>1</td>\n",
       "    </tr>\n",
       "    <tr>\n",
       "      <th>279</th>\n",
       "      <td>280</td>\n",
       "      <td>NGC 2500</td>\n",
       "      <td>120.47171</td>\n",
       "      <td>50.73711</td>\n",
       "      <td>G</td>\n",
       "      <td>514</td>\n",
       "      <td>0.001715</td>\n",
       "      <td>S1L</td>\n",
       "      <td>12.2</td>\n",
       "      <td>0</td>\n",
       "      <td>251</td>\n",
       "      <td>9</td>\n",
       "      <td>138</td>\n",
       "      <td>48</td>\n",
       "      <td>24</td>\n",
       "      <td>7</td>\n",
       "      <td>0</td>\n",
       "    </tr>\n",
       "  </tbody>\n",
       "</table>\n",
       "</div>"
      ],
      "text/plain": [
       "       No. Object Name         RA       DEC Type  Velocity  Redshift  \\\n",
       "719    720    NGC 4767  193.47063 -39.71431    G      2995  0.009990   \n",
       "1029  1030    NGC 7049  319.75126 -48.56216    G      2285  0.007622   \n",
       "637    638    NGC 4490  187.65100  41.64390    G       565  0.001885   \n",
       "279    280    NGC 2500  120.47171  50.73711    G       514  0.001715   \n",
       "\n",
       "     Redshift Flag Magnitude and Filter  Separation  References  Notes  \\\n",
       "719            SUN                12.51           0         102      3   \n",
       "1029           SUN                11.72           0         156      6   \n",
       "637            SUN                10.22           0         606     11   \n",
       "279            S1L                 12.2           0         251      9   \n",
       "\n",
       "      Photometry Points  Positions  Redshift Points  Diameter Points  \\\n",
       "719                  70         13               14               19   \n",
       "1029                 95         21               14               17   \n",
       "637                 156         61               32               12   \n",
       "279                 138         48               24                7   \n",
       "\n",
       "      Associations  \n",
       "719              0  \n",
       "1029             0  \n",
       "637              1  \n",
       "279              0  "
      ]
     },
     "execution_count": 3,
     "metadata": {},
     "output_type": "execute_result"
    }
   ],
   "source": [
    "#check random rows\n",
    "data.sample(4)"
   ]
  },
  {
   "cell_type": "code",
   "execution_count": 4,
   "id": "59c449c6-6648-47e4-804f-0483befbfc57",
   "metadata": {},
   "outputs": [
    {
     "name": "stdout",
     "output_type": "stream",
     "text": [
      "        No.  Object Name     RA    DEC   Type  Velocity  Redshift  \\\n",
      "0     False        False  False  False  False     False     False   \n",
      "1     False        False  False  False  False     False     False   \n",
      "2     False        False  False  False  False     False     False   \n",
      "3     False        False  False  False  False     False     False   \n",
      "4     False        False  False  False  False     False     False   \n",
      "...     ...          ...    ...    ...    ...       ...       ...   \n",
      "1115  False        False  False  False  False     False     False   \n",
      "1116  False        False  False  False  False     False     False   \n",
      "1117  False        False  False  False  False     False     False   \n",
      "1118  False        False  False  False  False     False     False   \n",
      "1119  False        False  False  False  False     False     False   \n",
      "\n",
      "      Redshift Flag  Magnitude and Filter  Separation  References  Notes  \\\n",
      "0             False                 False       False       False  False   \n",
      "1             False                 False       False       False  False   \n",
      "2             False                 False       False       False  False   \n",
      "3             False                 False       False       False  False   \n",
      "4             False                 False       False       False  False   \n",
      "...             ...                   ...         ...         ...    ...   \n",
      "1115          False                 False       False       False  False   \n",
      "1116          False                 False       False       False  False   \n",
      "1117          False                 False       False       False  False   \n",
      "1118          False                 False       False       False  False   \n",
      "1119          False                 False       False       False  False   \n",
      "\n",
      "      Photometry Points  Positions  Redshift Points  Diameter Points  \\\n",
      "0                 False      False            False            False   \n",
      "1                 False      False            False            False   \n",
      "2                 False      False            False            False   \n",
      "3                 False      False            False            False   \n",
      "4                 False      False            False            False   \n",
      "...                 ...        ...              ...              ...   \n",
      "1115              False      False            False            False   \n",
      "1116              False      False            False            False   \n",
      "1117              False      False            False            False   \n",
      "1118              False      False            False            False   \n",
      "1119              False      False            False            False   \n",
      "\n",
      "      Associations  \n",
      "0            False  \n",
      "1            False  \n",
      "2            False  \n",
      "3            False  \n",
      "4            False  \n",
      "...            ...  \n",
      "1115         False  \n",
      "1116         False  \n",
      "1117         False  \n",
      "1118         False  \n",
      "1119         False  \n",
      "\n",
      "[1120 rows x 17 columns]\n"
     ]
    }
   ],
   "source": [
    "#check for missing values or Na, True for missing, false for not missing\n",
    "missing=data.isna()\n",
    "print(missing)"
   ]
  },
  {
   "cell_type": "code",
   "execution_count": 5,
   "id": "5826a19e-f3cd-4de9-8b53-d303c06e375e",
   "metadata": {},
   "outputs": [
    {
     "name": "stdout",
     "output_type": "stream",
     "text": [
      "No.                     0\n",
      "Object Name             0\n",
      "RA                      0\n",
      "DEC                     0\n",
      "Type                    0\n",
      "Velocity                0\n",
      "Redshift                0\n",
      "Redshift Flag           0\n",
      "Magnitude and Filter    0\n",
      "Separation              0\n",
      "References              0\n",
      "Notes                   0\n",
      "Photometry Points       0\n",
      "Positions               0\n",
      "Redshift Points         0\n",
      "Diameter Points         0\n",
      "Associations            0\n",
      "dtype: int64\n"
     ]
    }
   ],
   "source": [
    "#checks total values missing for each column\n",
    "missing=data.isna()\n",
    "total=missing.sum()\n",
    "print(total)"
   ]
  },
  {
   "cell_type": "code",
   "execution_count": 6,
   "id": "ae213c89-0266-4acc-ba06-a06fcf4fa3d9",
   "metadata": {},
   "outputs": [
    {
     "name": "stdout",
     "output_type": "stream",
     "text": [
      "Duplicates Removed: None\n"
     ]
    }
   ],
   "source": [
    "#removes duplicate rows\n",
    "duplicates=data.drop_duplicates(inplace=True)\n",
    "print(\"Duplicates Removed:\", duplicates)"
   ]
  },
  {
   "cell_type": "code",
   "execution_count": 7,
   "id": "7ca7638e-7873-46d4-90ac-dfe4b6b6d600",
   "metadata": {},
   "outputs": [
    {
     "name": "stdout",
     "output_type": "stream",
     "text": [
      "     Object Name Type  Velocity  Redshift Magnitude and Filter\n",
      "0       NGC 7814    G      1051  0.003506                11.56\n",
      "1       NGC 7817    G      2310  0.007705                12.56\n",
      "2      HD 225244   !*      8994  0.030000                 8.91\n",
      "3        IC 1531    G      7687  0.025641                 13.8\n",
      "4       NGC 0024    G       554  0.001848                12.38\n",
      "...          ...  ...       ...       ...                  ...\n",
      "1115    NGC 7744    G      3098  0.010334                12.87\n",
      "1116    NGC 7755    G      2958  0.009867                12.56\n",
      "1117    NGC 7771    G      4335  0.014460                12.2B\n",
      "1118    NGC 7793    G       227  0.000757                 9.98\n",
      "1119    NGC 7796    G      3290  0.010974                12.46\n",
      "\n",
      "[1120 rows x 5 columns]\n"
     ]
    }
   ],
   "source": [
    "#Filter Columns\n",
    "#Object Name: Galaxy ID\n",
    "#RA: Position Coordinate in degrees\n",
    "#DEC: Position Coordinate in degrees\n",
    "#Type: Type of Celestial Object \n",
    "#Redshift: to calculate distance\n",
    "#Magnitude and Filter: magnitude related to luminosity\n",
    "\n",
    "critical_columns=['Object Name', 'Type', 'Velocity', 'Redshift', 'Magnitude and Filter']\n",
    "data = data[critical_columns]\n",
    "print(data)\n"
   ]
  },
  {
   "cell_type": "code",
   "execution_count": 8,
   "id": "f0e5576a-b3cf-47c7-bc9d-32e70f37abcf",
   "metadata": {},
   "outputs": [
    {
     "name": "stdout",
     "output_type": "stream",
     "text": [
      "['G' '!*' 'GPair' 'RfN' 'PofG' '*' 'HII' '!PN' 'QSO']\n"
     ]
    }
   ],
   "source": [
    "#finds all types of galaxies listed in column\n",
    "unique=data['Type'].unique();\n",
    "print(unique)"
   ]
  },
  {
   "cell_type": "code",
   "execution_count": 9,
   "id": "03ad7087-78fb-4e1b-b948-91505fcd97fa",
   "metadata": {},
   "outputs": [
    {
     "data": {
      "text/html": [
       "<div>\n",
       "<style scoped>\n",
       "    .dataframe tbody tr th:only-of-type {\n",
       "        vertical-align: middle;\n",
       "    }\n",
       "\n",
       "    .dataframe tbody tr th {\n",
       "        vertical-align: top;\n",
       "    }\n",
       "\n",
       "    .dataframe thead th {\n",
       "        text-align: right;\n",
       "    }\n",
       "</style>\n",
       "<table border=\"1\" class=\"dataframe\">\n",
       "  <thead>\n",
       "    <tr style=\"text-align: right;\">\n",
       "      <th></th>\n",
       "      <th>Type</th>\n",
       "    </tr>\n",
       "  </thead>\n",
       "  <tbody>\n",
       "    <tr>\n",
       "      <th>count</th>\n",
       "      <td>1120</td>\n",
       "    </tr>\n",
       "    <tr>\n",
       "      <th>unique</th>\n",
       "      <td>9</td>\n",
       "    </tr>\n",
       "    <tr>\n",
       "      <th>top</th>\n",
       "      <td>G</td>\n",
       "    </tr>\n",
       "    <tr>\n",
       "      <th>freq</th>\n",
       "      <td>1041</td>\n",
       "    </tr>\n",
       "  </tbody>\n",
       "</table>\n",
       "</div>"
      ],
      "text/plain": [
       "        Type\n",
       "count   1120\n",
       "unique     9\n",
       "top        G\n",
       "freq    1041"
      ]
     },
     "execution_count": 9,
     "metadata": {},
     "output_type": "execute_result"
    }
   ],
   "source": [
    "#check statistics from each column with numerical values\n",
    "data.describe()\n",
    "\n",
    "#stats for certain columns\n",
    "data[['Type']].describe()\n",
    "\n",
    "#count is total number of entries\n",
    "#unique is unique entries\n",
    "#top is the most popular entry\n",
    "#freq is the number of times the top appeared"
   ]
  },
  {
   "cell_type": "code",
   "execution_count": 10,
   "id": "2a5d5dc4-0125-4573-b2d6-c9b5db0b409e",
   "metadata": {},
   "outputs": [
    {
     "name": "stdout",
     "output_type": "stream",
     "text": [
      "     Object Name Type  Velocity  Redshift Magnitude and Filter\n",
      "0       NGC 7814    G      1051  0.003506                11.56\n",
      "1       NGC 7817    G      2310  0.007705                12.56\n",
      "3        IC 1531    G      7687  0.025641                 13.8\n",
      "4       NGC 0024    G       554  0.001848                12.38\n",
      "6       NGC 0045    G       467  0.001558                11.55\n",
      "...          ...  ...       ...       ...                  ...\n",
      "1115    NGC 7744    G      3098  0.010334                12.87\n",
      "1116    NGC 7755    G      2958  0.009867                12.56\n",
      "1117    NGC 7771    G      4335  0.014460                12.2B\n",
      "1118    NGC 7793    G       227  0.000757                 9.98\n",
      "1119    NGC 7796    G      3290  0.010974                12.46\n",
      "\n",
      "[1046 rows x 5 columns]\n"
     ]
    }
   ],
   "source": [
    "# Locate rows where Type column contains G or GPair\n",
    "data = data[(data['Type'] == 'G') | (data['Type'] == 'GPair')]\n",
    "print(data)"
   ]
  },
  {
   "cell_type": "code",
   "execution_count": 11,
   "id": "a6355aa5-e30a-4f07-87a8-b5cec5463ed6",
   "metadata": {},
   "outputs": [
    {
     "name": "stdout",
     "output_type": "stream",
     "text": [
      "['G' 'GPair']\n"
     ]
    },
    {
     "data": {
      "text/html": [
       "<div>\n",
       "<style scoped>\n",
       "    .dataframe tbody tr th:only-of-type {\n",
       "        vertical-align: middle;\n",
       "    }\n",
       "\n",
       "    .dataframe tbody tr th {\n",
       "        vertical-align: top;\n",
       "    }\n",
       "\n",
       "    .dataframe thead th {\n",
       "        text-align: right;\n",
       "    }\n",
       "</style>\n",
       "<table border=\"1\" class=\"dataframe\">\n",
       "  <thead>\n",
       "    <tr style=\"text-align: right;\">\n",
       "      <th></th>\n",
       "      <th>Type</th>\n",
       "    </tr>\n",
       "  </thead>\n",
       "  <tbody>\n",
       "    <tr>\n",
       "      <th>count</th>\n",
       "      <td>1046</td>\n",
       "    </tr>\n",
       "    <tr>\n",
       "      <th>unique</th>\n",
       "      <td>2</td>\n",
       "    </tr>\n",
       "    <tr>\n",
       "      <th>top</th>\n",
       "      <td>G</td>\n",
       "    </tr>\n",
       "    <tr>\n",
       "      <th>freq</th>\n",
       "      <td>1041</td>\n",
       "    </tr>\n",
       "  </tbody>\n",
       "</table>\n",
       "</div>"
      ],
      "text/plain": [
       "        Type\n",
       "count   1046\n",
       "unique     2\n",
       "top        G\n",
       "freq    1041"
      ]
     },
     "execution_count": 11,
     "metadata": {},
     "output_type": "execute_result"
    }
   ],
   "source": [
    "#finds all types of galaxies listed in column\n",
    "unique=data['Type'].unique();\n",
    "print(unique)\n",
    "data[['Type']].describe()"
   ]
  },
  {
   "cell_type": "code",
   "execution_count": 12,
   "id": "1307b370-af78-4342-aacb-087aa5acb7b2",
   "metadata": {},
   "outputs": [
    {
     "name": "stdout",
     "output_type": "stream",
     "text": [
      "<class 'pandas.core.frame.DataFrame'>\n",
      "Index: 1046 entries, 0 to 1119\n",
      "Data columns (total 5 columns):\n",
      " #   Column                Non-Null Count  Dtype  \n",
      "---  ------                --------------  -----  \n",
      " 0   Object Name           1046 non-null   object \n",
      " 1   Type                  1046 non-null   object \n",
      " 2   Velocity              1046 non-null   int64  \n",
      " 3   Redshift              1046 non-null   float64\n",
      " 4   Magnitude and Filter  1046 non-null   object \n",
      "dtypes: float64(1), int64(1), object(3)\n",
      "memory usage: 49.0+ KB\n"
     ]
    }
   ],
   "source": [
    "#check data types\n",
    "data.info()"
   ]
  },
  {
   "cell_type": "code",
   "execution_count": 13,
   "id": "7470229c-8ce8-47ee-b008-3226fd76fdd0",
   "metadata": {},
   "outputs": [],
   "source": [
    "#locate rows listed\n",
    "#data.loc[[2,4,5]]\n",
    "\n",
    "#locate rows from and to\n",
    "#data.loc[2:8]\n",
    "\n",
    "#rows from and to the end\n",
    "#data.loc[1118:]"
   ]
  },
  {
   "cell_type": "code",
   "execution_count": 14,
   "id": "f3d9e7a7-283b-4fa0-b03e-26e869c4452f",
   "metadata": {},
   "outputs": [
    {
     "name": "stdout",
     "output_type": "stream",
     "text": [
      "9       12.8g\n",
      "15      7.09B\n",
      "16      13.2r\n",
      "23      8.6 V\n",
      "44      10.7B\n",
      "        ...  \n",
      "1097    12.3g\n",
      "1102    15.2g\n",
      "1106    11.0B\n",
      "1107    11.6B\n",
      "1117    12.2B\n",
      "Name: Magnitude and Filter, Length: 203, dtype: object\n"
     ]
    }
   ],
   "source": [
    "#find the apparent magnitudes with filters\n",
    "#finds all values with strings that contain letters A-Z, a-z\n",
    "with_filter = data[data['Magnitude and Filter'].str.contains(r'[A-Za-z]')]\n",
    "print(with_filter['Magnitude and Filter'])"
   ]
  },
  {
   "cell_type": "code",
   "execution_count": 15,
   "id": "26f1c14c-7201-4a55-a99a-d0fe0fcd0d94",
   "metadata": {},
   "outputs": [
    {
     "name": "stdout",
     "output_type": "stream",
     "text": [
      "9       12.80\n",
      "15       7.09\n",
      "16      13.20\n",
      "23       8.60\n",
      "44      10.70\n",
      "        ...  \n",
      "1097    12.30\n",
      "1102    15.20\n",
      "1106    11.00\n",
      "1107    11.60\n",
      "1117    12.20\n",
      "Name: Magnitude, Length: 203, dtype: float64\n"
     ]
    }
   ],
   "source": [
    "#to take out the letter from the magnitudes with filters\n",
    "#then added to new column\n",
    "no_filter=with_filter.copy()\n",
    "no_filter['Magnitude'] = no_filter['Magnitude and Filter'].str.extract(r'(\\d+\\.\\d+)').astype(float)\n",
    "print(no_filter['Magnitude'])"
   ]
  },
  {
   "cell_type": "code",
   "execution_count": 24,
   "id": "d7d6e0d1-845c-48fd-8dc2-b292a527b324",
   "metadata": {},
   "outputs": [
    {
     "name": "stdout",
     "output_type": "stream",
     "text": [
      "Object Name             0\n",
      "Type                    0\n",
      "Velocity                0\n",
      "Redshift                0\n",
      "Magnitude and Filter    0\n",
      "Magnitude               0\n",
      "dtype: int64\n"
     ]
    }
   ],
   "source": [
    "#check for missing data\n",
    "missing=no_filter.isna()\n",
    "total=missing.sum()\n",
    "print(total)"
   ]
  },
  {
   "cell_type": "code",
   "execution_count": 23,
   "id": "50cf1bd4-0a5e-4913-8ed1-5dae088bfdfa",
   "metadata": {},
   "outputs": [
    {
     "name": "stdout",
     "output_type": "stream",
     "text": [
      "                    Object Name Type  Velocity  Redshift Magnitude and Filter  \\\n",
      "9                      NGC 0151    G      3732  0.012450                12.8g   \n",
      "15                     NGC 0253    G       242  0.000807                7.09B   \n",
      "16                     NGC 0262    G      4507  0.015034                13.2r   \n",
      "23    Sculptor Dwarf Elliptical    G       110  0.000367                8.6 V   \n",
      "44                     NGC 0613    G      1475  0.004920                10.7B   \n",
      "...                         ...  ...       ...       ...                  ...   \n",
      "1097                   NGC 7606    G      2234  0.007452                12.3g   \n",
      "1102  WISEA J232721.96+152437.3    G     13781  0.045967                15.2g   \n",
      "1106                    IC 5332    G       701  0.002338                11.0B   \n",
      "1107                   NGC 7713    G       696  0.002322                11.6B   \n",
      "1117                   NGC 7771    G      4335  0.014460                12.2B   \n",
      "\n",
      "      Magnitude  \n",
      "9         12.80  \n",
      "15         7.09  \n",
      "16        13.20  \n",
      "23         8.60  \n",
      "44        10.70  \n",
      "...         ...  \n",
      "1097      12.30  \n",
      "1102      15.20  \n",
      "1106      11.00  \n",
      "1107      11.60  \n",
      "1117      12.20  \n",
      "\n",
      "[203 rows x 6 columns]\n"
     ]
    }
   ],
   "source": [
    "#data updated\n",
    "data=no_filter.copy()\n",
    "print(data)"
   ]
  },
  {
   "cell_type": "code",
   "execution_count": 25,
   "id": "09cd2283-132a-4aa7-902e-a01f10d913b9",
   "metadata": {},
   "outputs": [
    {
     "name": "stdout",
     "output_type": "stream",
     "text": [
      "Object Name             0\n",
      "Type                    0\n",
      "Velocity                0\n",
      "Redshift                0\n",
      "Magnitude and Filter    0\n",
      "Magnitude               0\n",
      "dtype: int64\n"
     ]
    }
   ],
   "source": [
    "#check for missing data\n",
    "missing=data.isna()\n",
    "total=missing.sum()\n",
    "print(total)"
   ]
  },
  {
   "cell_type": "code",
   "execution_count": 19,
   "id": "05290296-8b93-4673-b796-8a6ce86e7bc8",
   "metadata": {},
   "outputs": [
    {
     "data": {
      "text/html": [
       "<div>\n",
       "<style scoped>\n",
       "    .dataframe tbody tr th:only-of-type {\n",
       "        vertical-align: middle;\n",
       "    }\n",
       "\n",
       "    .dataframe tbody tr th {\n",
       "        vertical-align: top;\n",
       "    }\n",
       "\n",
       "    .dataframe thead th {\n",
       "        text-align: right;\n",
       "    }\n",
       "</style>\n",
       "<table border=\"1\" class=\"dataframe\">\n",
       "  <thead>\n",
       "    <tr style=\"text-align: right;\">\n",
       "      <th></th>\n",
       "      <th>Object Name</th>\n",
       "      <th>Type</th>\n",
       "      <th>Velocity</th>\n",
       "      <th>Redshift</th>\n",
       "      <th>Magnitude and Filter</th>\n",
       "      <th>Magnitude</th>\n",
       "    </tr>\n",
       "  </thead>\n",
       "  <tbody>\n",
       "    <tr>\n",
       "      <th>9</th>\n",
       "      <td>NGC 0151</td>\n",
       "      <td>G</td>\n",
       "      <td>3732</td>\n",
       "      <td>0.012450</td>\n",
       "      <td>12.8g</td>\n",
       "      <td>12.80</td>\n",
       "    </tr>\n",
       "    <tr>\n",
       "      <th>15</th>\n",
       "      <td>NGC 0253</td>\n",
       "      <td>G</td>\n",
       "      <td>242</td>\n",
       "      <td>0.000807</td>\n",
       "      <td>7.09B</td>\n",
       "      <td>7.09</td>\n",
       "    </tr>\n",
       "    <tr>\n",
       "      <th>16</th>\n",
       "      <td>NGC 0262</td>\n",
       "      <td>G</td>\n",
       "      <td>4507</td>\n",
       "      <td>0.015034</td>\n",
       "      <td>13.2r</td>\n",
       "      <td>13.20</td>\n",
       "    </tr>\n",
       "    <tr>\n",
       "      <th>23</th>\n",
       "      <td>Sculptor Dwarf Elliptical</td>\n",
       "      <td>G</td>\n",
       "      <td>110</td>\n",
       "      <td>0.000367</td>\n",
       "      <td>8.6 V</td>\n",
       "      <td>8.60</td>\n",
       "    </tr>\n",
       "    <tr>\n",
       "      <th>44</th>\n",
       "      <td>NGC 0613</td>\n",
       "      <td>G</td>\n",
       "      <td>1475</td>\n",
       "      <td>0.004920</td>\n",
       "      <td>10.7B</td>\n",
       "      <td>10.70</td>\n",
       "    </tr>\n",
       "    <tr>\n",
       "      <th>...</th>\n",
       "      <td>...</td>\n",
       "      <td>...</td>\n",
       "      <td>...</td>\n",
       "      <td>...</td>\n",
       "      <td>...</td>\n",
       "      <td>...</td>\n",
       "    </tr>\n",
       "    <tr>\n",
       "      <th>1097</th>\n",
       "      <td>NGC 7606</td>\n",
       "      <td>G</td>\n",
       "      <td>2234</td>\n",
       "      <td>0.007452</td>\n",
       "      <td>12.3g</td>\n",
       "      <td>12.30</td>\n",
       "    </tr>\n",
       "    <tr>\n",
       "      <th>1102</th>\n",
       "      <td>WISEA J232721.96+152437.3</td>\n",
       "      <td>G</td>\n",
       "      <td>13781</td>\n",
       "      <td>0.045967</td>\n",
       "      <td>15.2g</td>\n",
       "      <td>15.20</td>\n",
       "    </tr>\n",
       "    <tr>\n",
       "      <th>1106</th>\n",
       "      <td>IC 5332</td>\n",
       "      <td>G</td>\n",
       "      <td>701</td>\n",
       "      <td>0.002338</td>\n",
       "      <td>11.0B</td>\n",
       "      <td>11.00</td>\n",
       "    </tr>\n",
       "    <tr>\n",
       "      <th>1107</th>\n",
       "      <td>NGC 7713</td>\n",
       "      <td>G</td>\n",
       "      <td>696</td>\n",
       "      <td>0.002322</td>\n",
       "      <td>11.6B</td>\n",
       "      <td>11.60</td>\n",
       "    </tr>\n",
       "    <tr>\n",
       "      <th>1117</th>\n",
       "      <td>NGC 7771</td>\n",
       "      <td>G</td>\n",
       "      <td>4335</td>\n",
       "      <td>0.014460</td>\n",
       "      <td>12.2B</td>\n",
       "      <td>12.20</td>\n",
       "    </tr>\n",
       "  </tbody>\n",
       "</table>\n",
       "<p>203 rows × 6 columns</p>\n",
       "</div>"
      ],
      "text/plain": [
       "                    Object Name Type  Velocity  Redshift Magnitude and Filter  \\\n",
       "9                      NGC 0151    G      3732  0.012450                12.8g   \n",
       "15                     NGC 0253    G       242  0.000807                7.09B   \n",
       "16                     NGC 0262    G      4507  0.015034                13.2r   \n",
       "23    Sculptor Dwarf Elliptical    G       110  0.000367                8.6 V   \n",
       "44                     NGC 0613    G      1475  0.004920                10.7B   \n",
       "...                         ...  ...       ...       ...                  ...   \n",
       "1097                   NGC 7606    G      2234  0.007452                12.3g   \n",
       "1102  WISEA J232721.96+152437.3    G     13781  0.045967                15.2g   \n",
       "1106                    IC 5332    G       701  0.002338                11.0B   \n",
       "1107                   NGC 7713    G       696  0.002322                11.6B   \n",
       "1117                   NGC 7771    G      4335  0.014460                12.2B   \n",
       "\n",
       "      Magnitude  \n",
       "9         12.80  \n",
       "15         7.09  \n",
       "16        13.20  \n",
       "23         8.60  \n",
       "44        10.70  \n",
       "...         ...  \n",
       "1097      12.30  \n",
       "1102      15.20  \n",
       "1106      11.00  \n",
       "1107      11.60  \n",
       "1117      12.20  \n",
       "\n",
       "[203 rows x 6 columns]"
      ]
     },
     "execution_count": 19,
     "metadata": {},
     "output_type": "execute_result"
    }
   ],
   "source": [
    "#columns with strings compared with new column without strings\n",
    "data[data['Magnitude and Filter'].str.contains(r'[A-Za-z]')]"
   ]
  },
  {
   "cell_type": "code",
   "execution_count": 20,
   "id": "4452ec2b-b538-49bd-97b2-6421be11d844",
   "metadata": {
    "scrolled": true
   },
   "outputs": [
    {
     "name": "stdout",
     "output_type": "stream",
     "text": [
      "                    Object Name Type  Velocity  Redshift  Magnitude\n",
      "9                      NGC 0151    G      3732  0.012450      12.80\n",
      "15                     NGC 0253    G       242  0.000807       7.09\n",
      "16                     NGC 0262    G      4507  0.015034      13.20\n",
      "23    Sculptor Dwarf Elliptical    G       110  0.000367       8.60\n",
      "44                     NGC 0613    G      1475  0.004920      10.70\n",
      "...                         ...  ...       ...       ...        ...\n",
      "1097                   NGC 7606    G      2234  0.007452      12.30\n",
      "1102  WISEA J232721.96+152437.3    G     13781  0.045967      15.20\n",
      "1106                    IC 5332    G       701  0.002338      11.00\n",
      "1107                   NGC 7713    G       696  0.002322      11.60\n",
      "1117                   NGC 7771    G      4335  0.014460      12.20\n",
      "\n",
      "[203 rows x 5 columns]\n"
     ]
    }
   ],
   "source": [
    "#new critical columns \n",
    "critical_columns=['Object Name', 'Type', 'Velocity', 'Redshift', 'Magnitude']\n",
    "data = data[critical_columns]\n",
    "print(data)"
   ]
  },
  {
   "cell_type": "code",
   "execution_count": 21,
   "id": "b7fbd388-7e63-464e-9049-d4a7c12822b6",
   "metadata": {},
   "outputs": [
    {
     "name": "stdout",
     "output_type": "stream",
     "text": [
      "                    Object Name Type  Velocity(km/s)  Redshift  Magnitude\n",
      "9                      NGC 0151    G            3732  0.012450      12.80\n",
      "15                     NGC 0253    G             242  0.000807       7.09\n",
      "16                     NGC 0262    G            4507  0.015034      13.20\n",
      "23    Sculptor Dwarf Elliptical    G             110  0.000367       8.60\n",
      "44                     NGC 0613    G            1475  0.004920      10.70\n",
      "...                         ...  ...             ...       ...        ...\n",
      "1097                   NGC 7606    G            2234  0.007452      12.30\n",
      "1102  WISEA J232721.96+152437.3    G           13781  0.045967      15.20\n",
      "1106                    IC 5332    G             701  0.002338      11.00\n",
      "1107                   NGC 7713    G             696  0.002322      11.60\n",
      "1117                   NGC 7771    G            4335  0.014460      12.20\n",
      "\n",
      "[203 rows x 5 columns]\n"
     ]
    }
   ],
   "source": [
    "#rename velocity column to include units\n",
    "data = data.rename(columns={'Velocity': 'Velocity(km/s)'})\n",
    "print(data)"
   ]
  },
  {
   "cell_type": "code",
   "execution_count": 22,
   "id": "b789a5fb-25a8-49e7-b499-a5ddc1966041",
   "metadata": {},
   "outputs": [],
   "source": [
    "#store cleaned data in new CSV file\n",
    "cleaned_data = data.copy()\n",
    "cleaned_data.to_csv('cleaned_data.csv', index=False)"
   ]
  }
 ],
 "metadata": {
  "kernelspec": {
   "display_name": "Python 3 (ipykernel)",
   "language": "python",
   "name": "python3"
  },
  "language_info": {
   "codemirror_mode": {
    "name": "ipython",
    "version": 3
   },
   "file_extension": ".py",
   "mimetype": "text/x-python",
   "name": "python",
   "nbconvert_exporter": "python",
   "pygments_lexer": "ipython3",
   "version": "3.12.2"
  }
 },
 "nbformat": 4,
 "nbformat_minor": 5
}
