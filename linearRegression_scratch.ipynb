{
 "cells": [
  {
   "cell_type": "code",
   "execution_count": 1,
   "id": "8a5760ce-2858-41f0-8f3d-022b53787f26",
   "metadata": {},
   "outputs": [],
   "source": [
    "import pandas as pd\n",
    "import numpy as np\n",
    "import matplotlib.pyplot as plt"
   ]
  },
  {
   "cell_type": "code",
   "execution_count": 2,
   "id": "f82ef2d7-12a7-447b-93bc-a95286743093",
   "metadata": {},
   "outputs": [
    {
     "name": "stdout",
     "output_type": "stream",
     "text": [
      "                 Object Name Type  Velocity(km/s)  Redshift  Magnitude\n",
      "0                   NGC 0151    G            3732  0.012450      12.80\n",
      "1                   NGC 0253    G             242  0.000807       7.09\n",
      "2                   NGC 0262    G            4507  0.015034      13.20\n",
      "3  Sculptor Dwarf Elliptical    G             110  0.000367       8.60\n",
      "4                   NGC 0613    G            1475  0.004920      10.70\n"
     ]
    }
   ],
   "source": [
    "#load data\n",
    "data=pd.read_csv(r\"C:\\Users\\maybe\\OneDrive\\Desktop\\One elective Data Science\\cleaned_data.csv\")\n",
    "\n",
    "#check first rows to verify it loaded correctly\n",
    "print(data.head())"
   ]
  },
  {
   "cell_type": "code",
   "execution_count": 3,
   "id": "579bd3e7-ee52-46c2-91c8-0bd7b1487a18",
   "metadata": {},
   "outputs": [
    {
     "data": {
      "text/html": [
       "<div>\n",
       "<style scoped>\n",
       "    .dataframe tbody tr th:only-of-type {\n",
       "        vertical-align: middle;\n",
       "    }\n",
       "\n",
       "    .dataframe tbody tr th {\n",
       "        vertical-align: top;\n",
       "    }\n",
       "\n",
       "    .dataframe thead th {\n",
       "        text-align: right;\n",
       "    }\n",
       "</style>\n",
       "<table border=\"1\" class=\"dataframe\">\n",
       "  <thead>\n",
       "    <tr style=\"text-align: right;\">\n",
       "      <th></th>\n",
       "      <th>Velocity(km/s)</th>\n",
       "      <th>Redshift</th>\n",
       "      <th>Magnitude</th>\n",
       "    </tr>\n",
       "  </thead>\n",
       "  <tbody>\n",
       "    <tr>\n",
       "      <th>count</th>\n",
       "      <td>203.000000</td>\n",
       "      <td>203.000000</td>\n",
       "      <td>203.000000</td>\n",
       "    </tr>\n",
       "    <tr>\n",
       "      <th>mean</th>\n",
       "      <td>2326.113300</td>\n",
       "      <td>0.007759</td>\n",
       "      <td>12.059557</td>\n",
       "    </tr>\n",
       "    <tr>\n",
       "      <th>std</th>\n",
       "      <td>2590.476779</td>\n",
       "      <td>0.008641</td>\n",
       "      <td>1.283998</td>\n",
       "    </tr>\n",
       "    <tr>\n",
       "      <th>min</th>\n",
       "      <td>1.000000</td>\n",
       "      <td>0.000004</td>\n",
       "      <td>7.090000</td>\n",
       "    </tr>\n",
       "    <tr>\n",
       "      <th>25%</th>\n",
       "      <td>937.500000</td>\n",
       "      <td>0.003128</td>\n",
       "      <td>11.500000</td>\n",
       "    </tr>\n",
       "    <tr>\n",
       "      <th>50%</th>\n",
       "      <td>1514.000000</td>\n",
       "      <td>0.005050</td>\n",
       "      <td>12.200000</td>\n",
       "    </tr>\n",
       "    <tr>\n",
       "      <th>75%</th>\n",
       "      <td>2498.000000</td>\n",
       "      <td>0.008332</td>\n",
       "      <td>12.700000</td>\n",
       "    </tr>\n",
       "    <tr>\n",
       "      <th>max</th>\n",
       "      <td>14780.000000</td>\n",
       "      <td>0.049300</td>\n",
       "      <td>15.500000</td>\n",
       "    </tr>\n",
       "  </tbody>\n",
       "</table>\n",
       "</div>"
      ],
      "text/plain": [
       "       Velocity(km/s)    Redshift   Magnitude\n",
       "count      203.000000  203.000000  203.000000\n",
       "mean      2326.113300    0.007759   12.059557\n",
       "std       2590.476779    0.008641    1.283998\n",
       "min          1.000000    0.000004    7.090000\n",
       "25%        937.500000    0.003128   11.500000\n",
       "50%       1514.000000    0.005050   12.200000\n",
       "75%       2498.000000    0.008332   12.700000\n",
       "max      14780.000000    0.049300   15.500000"
      ]
     },
     "execution_count": 3,
     "metadata": {},
     "output_type": "execute_result"
    }
   ],
   "source": [
    "#show stats from each column\n",
    "data.describe()"
   ]
  },
  {
   "cell_type": "code",
   "execution_count": 4,
   "id": "b8dde8e0-65fd-4671-b57b-77ba39f478d2",
   "metadata": {},
   "outputs": [
    {
     "name": "stdout",
     "output_type": "stream",
     "text": [
      "0      0.012450\n",
      "1      0.000807\n",
      "2      0.015034\n",
      "3      0.000367\n",
      "4      0.004920\n",
      "         ...   \n",
      "198    0.007452\n",
      "199    0.045967\n",
      "200    0.002338\n",
      "201    0.002322\n",
      "202    0.014460\n",
      "Name: Redshift, Length: 203, dtype: float64 0       3732\n",
      "1        242\n",
      "2       4507\n",
      "3        110\n",
      "4       1475\n",
      "       ...  \n",
      "198     2234\n",
      "199    13781\n",
      "200      701\n",
      "201      696\n",
      "202     4335\n",
      "Name: Velocity(km/s), Length: 203, dtype: int64\n"
     ]
    }
   ],
   "source": [
    "#define domain and range\n",
    "x = data['Redshift']  # Independent variable\n",
    "y = data['Velocity(km/s)']  # Dependent variable\n",
    "\n",
    "print(x, y)"
   ]
  },
  {
   "cell_type": "code",
   "execution_count": 5,
   "id": "eed8fe99-fffc-4d07-aa10-8359afb21575",
   "metadata": {},
   "outputs": [],
   "source": [
    "#find the mean of redshift and velocity \n",
    "mean_x = np.mean(x)\n",
    "mean_y = np.mean(y)\n",
    "\n",
    "#calculate the numerator and denominator for the slope (m) using numpy\n",
    "numerator = np.sum((x - mean_x) * (y - mean_y))\n",
    "denominator = np.sum((x - mean_x) ** 2)\n"
   ]
  },
  {
   "cell_type": "code",
   "execution_count": 6,
   "id": "7c0e234b-99bc-45c6-b33c-9e84cf25ddf0",
   "metadata": {},
   "outputs": [],
   "source": [
    "#calculate the slope (m) and intercept (b) for y = mx + b \n",
    "slope = numerator/denominator\n",
    "# find y-intercept, b = y - mx\n",
    "y_intercept = mean_y - (slope * mean_x)\n",
    "\n",
    "#use slope and y-intercept to predict velocities\n",
    "predicted_y = slope * x + y_intercept\n"
   ]
  },
  {
   "cell_type": "code",
   "execution_count": 7,
   "id": "479ce0b6-9355-4054-b2d6-bae3d240c5e0",
   "metadata": {},
   "outputs": [
    {
     "data": {
      "image/png": "[encoded data removed]",
      "text/plain": [
       "<Figure size 640x480 with 1 Axes>"
      ]
     },
     "metadata": {},
     "output_type": "display_data"
    }
   ],
   "source": [
    "#scatter plot with the regression line\n",
    "plt.scatter(x, y, color='blue', label='Data')\n",
    "plt.plot(x, predicted_y, color='red', label='Regression line')\n",
    "plt.xlabel('Redshift')\n",
    "plt.ylabel('Velocity (km/s)')\n",
    "plt.title('Linear Regression: Velocity vs Redshift')\n",
    "plt.legend()\n",
    "plt.show()"
   ]
  },
  {
   "cell_type": "code",
   "execution_count": 8,
   "id": "0917de91-d576-4658-8d90-e30875420b9d",
   "metadata": {},
   "outputs": [
    {
     "name": "stdout",
     "output_type": "stream",
     "text": [
      "slope: 299795.4596774723\n",
      "y-intercept: -0.029207643387053395\n",
      "predicted velocities: 0       3732.424265\n",
      "1        241.905728\n",
      "2       4507.095733\n",
      "3        109.995726\n",
      "4       1474.964454\n",
      "           ...     \n",
      "198     2234.046558\n",
      "199    13780.668687\n",
      "200      700.892577\n",
      "201      696.095850\n",
      "202     4335.013139\n",
      "Name: Redshift, Length: 203, dtype: float64\n"
     ]
    }
   ],
   "source": [
    "#show the slope, y-intercept, and predicted velocities\n",
    "print(\"slope:\" , slope)\n",
    "print(\"y-intercept:\" , y_intercept)\n",
    "print(\"predicted velocities:\", predicted_y)"
   ]
  }
 ],
 "metadata": {
  "kernelspec": {
   "display_name": "Python 3 (ipykernel)",
   "language": "python",
   "name": "python3"
  },
  "language_info": {
   "codemirror_mode": {
    "name": "ipython",
    "version": 3
   },
   "file_extension": ".py",
   "mimetype": "text/x-python",
   "name": "python",
   "nbconvert_exporter": "python",
   "pygments_lexer": "ipython3",
   "version": "3.12.2"
  }
 },
 "nbformat": 4,
 "nbformat_minor": 5
}
